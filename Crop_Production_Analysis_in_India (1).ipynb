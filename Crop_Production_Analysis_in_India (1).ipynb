{
  "cells": [
    {
      "cell_type": "markdown",
      "metadata": {
        "id": "aqYG_v7jHPVe"
      },
      "source": [
        "**Crop Production Analysis in India**\n"
      ]
    },
    {
      "cell_type": "code",
      "execution_count": 4,
      "metadata": {
        "id": "T62UtzAMHOid"
      },
      "outputs": [],
      "source": [
        "# importing lebraries :\n",
        "import pandas as pd\n",
        "import numpy as np\n",
        "import matplotlib.pyplot as plt\n",
        "import seaborn as sns"
      ]
    },
    {
      "cell_type": "code",
      "execution_count": 5,
      "metadata": {
        "id": "FLQAgqJ2KWfq"
      },
      "outputs": [],
      "source": [
        "from mpl_toolkits import mplot3d"
      ]
    },
    {
      "cell_type": "code",
      "execution_count": 9,
      "metadata": {
        "id": "i57_bqsrHWu6"
      },
      "outputs": [],
      "source": [
        "# load dataset :\n",
        "df= pd.read_csv(r\"C:\\Users\\Priyanshu\\Downloads\\Crop Production data.csv\")"
      ]
    },
    {
      "cell_type": "markdown",
      "metadata": {
        "id": "yJMoGSGUKgkJ"
      },
      "source": [
        "Creating of all in the dataframe"
      ]
    },
    {
      "cell_type": "code",
      "execution_count": 10,
      "metadata": {
        "colab": {
          "base_uri": "https://localhost:8080/"
        },
        "id": "LxFH6lyGKsAm",
        "outputId": "864208d7-2d92-4c7a-93cf-132630a0f3c0"
      },
      "outputs": [
        {
          "data": {
            "text/plain": [
              "Index(['State_Name', 'District_Name', 'Crop_Year', 'Season', 'Crop', 'Area',\n",
              "       'Production'],\n",
              "      dtype='object')"
            ]
          },
          "execution_count": 10,
          "metadata": {},
          "output_type": "execute_result"
        }
      ],
      "source": [
        "df.columns"
      ]
    },
    {
      "cell_type": "code",
      "execution_count": 11,
      "metadata": {
        "colab": {
          "base_uri": "https://localhost:8080/",
          "height": 206
        },
        "id": "2Ao3_CLzIdDq",
        "outputId": "b417df3e-33b7-410a-a0f5-2946740ea988"
      },
      "outputs": [
        {
          "data": {
            "text/html": [
              "<div>\n",
              "<style scoped>\n",
              "    .dataframe tbody tr th:only-of-type {\n",
              "        vertical-align: middle;\n",
              "    }\n",
              "\n",
              "    .dataframe tbody tr th {\n",
              "        vertical-align: top;\n",
              "    }\n",
              "\n",
              "    .dataframe thead th {\n",
              "        text-align: right;\n",
              "    }\n",
              "</style>\n",
              "<table border=\"1\" class=\"dataframe\">\n",
              "  <thead>\n",
              "    <tr style=\"text-align: right;\">\n",
              "      <th></th>\n",
              "      <th>State_Name</th>\n",
              "      <th>District_Name</th>\n",
              "      <th>Crop_Year</th>\n",
              "      <th>Season</th>\n",
              "      <th>Crop</th>\n",
              "      <th>Area</th>\n",
              "      <th>Production</th>\n",
              "    </tr>\n",
              "  </thead>\n",
              "  <tbody>\n",
              "    <tr>\n",
              "      <th>0</th>\n",
              "      <td>Andaman and Nicobar Islands</td>\n",
              "      <td>NICOBARS</td>\n",
              "      <td>2000</td>\n",
              "      <td>Kharif</td>\n",
              "      <td>Arecanut</td>\n",
              "      <td>1254.0</td>\n",
              "      <td>2000.0</td>\n",
              "    </tr>\n",
              "    <tr>\n",
              "      <th>1</th>\n",
              "      <td>Andaman and Nicobar Islands</td>\n",
              "      <td>NICOBARS</td>\n",
              "      <td>2000</td>\n",
              "      <td>Kharif</td>\n",
              "      <td>Other Kharif pulses</td>\n",
              "      <td>2.0</td>\n",
              "      <td>1.0</td>\n",
              "    </tr>\n",
              "    <tr>\n",
              "      <th>2</th>\n",
              "      <td>Andaman and Nicobar Islands</td>\n",
              "      <td>NICOBARS</td>\n",
              "      <td>2000</td>\n",
              "      <td>Kharif</td>\n",
              "      <td>Rice</td>\n",
              "      <td>102.0</td>\n",
              "      <td>321.0</td>\n",
              "    </tr>\n",
              "    <tr>\n",
              "      <th>3</th>\n",
              "      <td>Andaman and Nicobar Islands</td>\n",
              "      <td>NICOBARS</td>\n",
              "      <td>2000</td>\n",
              "      <td>Whole Year</td>\n",
              "      <td>Banana</td>\n",
              "      <td>176.0</td>\n",
              "      <td>641.0</td>\n",
              "    </tr>\n",
              "    <tr>\n",
              "      <th>4</th>\n",
              "      <td>Andaman and Nicobar Islands</td>\n",
              "      <td>NICOBARS</td>\n",
              "      <td>2000</td>\n",
              "      <td>Whole Year</td>\n",
              "      <td>Cashewnut</td>\n",
              "      <td>720.0</td>\n",
              "      <td>165.0</td>\n",
              "    </tr>\n",
              "  </tbody>\n",
              "</table>\n",
              "</div>"
            ],
            "text/plain": [
              "                    State_Name District_Name  Crop_Year       Season  \\\n",
              "0  Andaman and Nicobar Islands      NICOBARS       2000  Kharif        \n",
              "1  Andaman and Nicobar Islands      NICOBARS       2000  Kharif        \n",
              "2  Andaman and Nicobar Islands      NICOBARS       2000  Kharif        \n",
              "3  Andaman and Nicobar Islands      NICOBARS       2000  Whole Year    \n",
              "4  Andaman and Nicobar Islands      NICOBARS       2000  Whole Year    \n",
              "\n",
              "                  Crop    Area  Production  \n",
              "0             Arecanut  1254.0      2000.0  \n",
              "1  Other Kharif pulses     2.0         1.0  \n",
              "2                 Rice   102.0       321.0  \n",
              "3               Banana   176.0       641.0  \n",
              "4            Cashewnut   720.0       165.0  "
            ]
          },
          "execution_count": 11,
          "metadata": {},
          "output_type": "execute_result"
        }
      ],
      "source": [
        "df.head()"
      ]
    },
    {
      "cell_type": "markdown",
      "metadata": {
        "id": "lHWMXUUdK4ro"
      },
      "source": [
        "Checking the datatypes of the columns in the dataframe"
      ]
    },
    {
      "cell_type": "code",
      "execution_count": 12,
      "metadata": {
        "colab": {
          "base_uri": "https://localhost:8080/"
        },
        "id": "-eU_d1ZdIgg8",
        "outputId": "78efd1eb-e914-4a39-933f-c65f1dbbbcd3"
      },
      "outputs": [
        {
          "name": "stdout",
          "output_type": "stream",
          "text": [
            "<class 'pandas.core.frame.DataFrame'>\n",
            "RangeIndex: 246091 entries, 0 to 246090\n",
            "Data columns (total 7 columns):\n",
            " #   Column         Non-Null Count   Dtype  \n",
            "---  ------         --------------   -----  \n",
            " 0   State_Name     246091 non-null  object \n",
            " 1   District_Name  246091 non-null  object \n",
            " 2   Crop_Year      246091 non-null  int64  \n",
            " 3   Season         246091 non-null  object \n",
            " 4   Crop           246091 non-null  object \n",
            " 5   Area           246091 non-null  float64\n",
            " 6   Production     242361 non-null  float64\n",
            "dtypes: float64(2), int64(1), object(4)\n",
            "memory usage: 13.1+ MB\n"
          ]
        }
      ],
      "source": [
        "df.info()"
      ]
    },
    {
      "cell_type": "markdown",
      "metadata": {
        "id": "OBveqANAL3lz"
      },
      "source": [
        "Creting new column name \"Date\" having the datatype of date\n",
        "\n"
      ]
    },
    {
      "cell_type": "code",
      "execution_count": 13,
      "metadata": {
        "id": "lHbRW58OLLbn"
      },
      "outputs": [],
      "source": [
        "df[\"Date\"] = pd.to_datetime(df[\"Crop_Year\"], format='%Y')"
      ]
    },
    {
      "cell_type": "code",
      "execution_count": 14,
      "metadata": {
        "colab": {
          "base_uri": "https://localhost:8080/",
          "height": 206
        },
        "id": "89FbMBE1LqJD",
        "outputId": "e1947296-c165-45c6-b882-903082ad532d"
      },
      "outputs": [
        {
          "data": {
            "text/html": [
              "<div>\n",
              "<style scoped>\n",
              "    .dataframe tbody tr th:only-of-type {\n",
              "        vertical-align: middle;\n",
              "    }\n",
              "\n",
              "    .dataframe tbody tr th {\n",
              "        vertical-align: top;\n",
              "    }\n",
              "\n",
              "    .dataframe thead th {\n",
              "        text-align: right;\n",
              "    }\n",
              "</style>\n",
              "<table border=\"1\" class=\"dataframe\">\n",
              "  <thead>\n",
              "    <tr style=\"text-align: right;\">\n",
              "      <th></th>\n",
              "      <th>State_Name</th>\n",
              "      <th>District_Name</th>\n",
              "      <th>Crop_Year</th>\n",
              "      <th>Season</th>\n",
              "      <th>Crop</th>\n",
              "      <th>Area</th>\n",
              "      <th>Production</th>\n",
              "      <th>Date</th>\n",
              "    </tr>\n",
              "  </thead>\n",
              "  <tbody>\n",
              "    <tr>\n",
              "      <th>0</th>\n",
              "      <td>Andaman and Nicobar Islands</td>\n",
              "      <td>NICOBARS</td>\n",
              "      <td>2000</td>\n",
              "      <td>Kharif</td>\n",
              "      <td>Arecanut</td>\n",
              "      <td>1254.0</td>\n",
              "      <td>2000.0</td>\n",
              "      <td>2000-01-01</td>\n",
              "    </tr>\n",
              "    <tr>\n",
              "      <th>1</th>\n",
              "      <td>Andaman and Nicobar Islands</td>\n",
              "      <td>NICOBARS</td>\n",
              "      <td>2000</td>\n",
              "      <td>Kharif</td>\n",
              "      <td>Other Kharif pulses</td>\n",
              "      <td>2.0</td>\n",
              "      <td>1.0</td>\n",
              "      <td>2000-01-01</td>\n",
              "    </tr>\n",
              "    <tr>\n",
              "      <th>2</th>\n",
              "      <td>Andaman and Nicobar Islands</td>\n",
              "      <td>NICOBARS</td>\n",
              "      <td>2000</td>\n",
              "      <td>Kharif</td>\n",
              "      <td>Rice</td>\n",
              "      <td>102.0</td>\n",
              "      <td>321.0</td>\n",
              "      <td>2000-01-01</td>\n",
              "    </tr>\n",
              "    <tr>\n",
              "      <th>3</th>\n",
              "      <td>Andaman and Nicobar Islands</td>\n",
              "      <td>NICOBARS</td>\n",
              "      <td>2000</td>\n",
              "      <td>Whole Year</td>\n",
              "      <td>Banana</td>\n",
              "      <td>176.0</td>\n",
              "      <td>641.0</td>\n",
              "      <td>2000-01-01</td>\n",
              "    </tr>\n",
              "    <tr>\n",
              "      <th>4</th>\n",
              "      <td>Andaman and Nicobar Islands</td>\n",
              "      <td>NICOBARS</td>\n",
              "      <td>2000</td>\n",
              "      <td>Whole Year</td>\n",
              "      <td>Cashewnut</td>\n",
              "      <td>720.0</td>\n",
              "      <td>165.0</td>\n",
              "      <td>2000-01-01</td>\n",
              "    </tr>\n",
              "  </tbody>\n",
              "</table>\n",
              "</div>"
            ],
            "text/plain": [
              "                    State_Name District_Name  Crop_Year       Season  \\\n",
              "0  Andaman and Nicobar Islands      NICOBARS       2000  Kharif        \n",
              "1  Andaman and Nicobar Islands      NICOBARS       2000  Kharif        \n",
              "2  Andaman and Nicobar Islands      NICOBARS       2000  Kharif        \n",
              "3  Andaman and Nicobar Islands      NICOBARS       2000  Whole Year    \n",
              "4  Andaman and Nicobar Islands      NICOBARS       2000  Whole Year    \n",
              "\n",
              "                  Crop    Area  Production       Date  \n",
              "0             Arecanut  1254.0      2000.0 2000-01-01  \n",
              "1  Other Kharif pulses     2.0         1.0 2000-01-01  \n",
              "2                 Rice   102.0       321.0 2000-01-01  \n",
              "3               Banana   176.0       641.0 2000-01-01  \n",
              "4            Cashewnut   720.0       165.0 2000-01-01  "
            ]
          },
          "execution_count": 14,
          "metadata": {},
          "output_type": "execute_result"
        }
      ],
      "source": [
        "df.head()"
      ]
    },
    {
      "cell_type": "markdown",
      "metadata": {
        "id": "kZpnAiK6Mhuo"
      },
      "source": [
        "All Unique State Name"
      ]
    },
    {
      "cell_type": "code",
      "execution_count": 15,
      "metadata": {
        "colab": {
          "base_uri": "https://localhost:8080/"
        },
        "id": "Ypd0RKEWMMzX",
        "outputId": "80cb93cc-5d6f-4faf-b474-1edf68b35dc9"
      },
      "outputs": [
        {
          "name": "stdout",
          "output_type": "stream",
          "text": [
            "['Andaman and Nicobar Islands' 'Andhra Pradesh' 'Arunachal Pradesh'\n",
            " 'Assam' 'Bihar' 'Chandigarh' 'Chhattisgarh' 'Dadra and Nagar Haveli'\n",
            " 'Goa' 'Gujarat' 'Haryana' 'Himachal Pradesh' 'Jammu and Kashmir '\n",
            " 'Jharkhand' 'Karnataka' 'Kerala' 'Madhya Pradesh' 'Maharashtra' 'Manipur'\n",
            " 'Meghalaya' 'Mizoram' 'Nagaland' 'Odisha' 'Puducherry' 'Punjab'\n",
            " 'Rajasthan' 'Sikkim' 'Tamil Nadu' 'Telangana ' 'Tripura' 'Uttar Pradesh'\n",
            " 'Uttarakhand' 'West Bengal']\n"
          ]
        }
      ],
      "source": [
        "unique_State_Name =df[\"State_Name\"].unique()\n",
        "print(unique_State_Name)"
      ]
    },
    {
      "cell_type": "code",
      "execution_count": 16,
      "metadata": {
        "colab": {
          "base_uri": "https://localhost:8080/"
        },
        "id": "aqsuNtKjM6h6",
        "outputId": "6ba15412-d33f-4ba9-a886-afba2c67ee08"
      },
      "outputs": [
        {
          "name": "stdout",
          "output_type": "stream",
          "text": [
            "['2000-01-01T00:00:00.000000000' '2001-01-01T00:00:00.000000000'\n",
            " '2002-01-01T00:00:00.000000000' '2003-01-01T00:00:00.000000000'\n",
            " '2004-01-01T00:00:00.000000000' '2005-01-01T00:00:00.000000000'\n",
            " '2006-01-01T00:00:00.000000000' '2010-01-01T00:00:00.000000000'\n",
            " '1997-01-01T00:00:00.000000000' '1998-01-01T00:00:00.000000000'\n",
            " '1999-01-01T00:00:00.000000000' '2007-01-01T00:00:00.000000000'\n",
            " '2008-01-01T00:00:00.000000000' '2009-01-01T00:00:00.000000000'\n",
            " '2011-01-01T00:00:00.000000000' '2012-01-01T00:00:00.000000000'\n",
            " '2013-01-01T00:00:00.000000000' '2014-01-01T00:00:00.000000000'\n",
            " '2015-01-01T00:00:00.000000000']\n"
          ]
        }
      ],
      "source": [
        "unique_Date =df[\"Date\"].unique()\n",
        "print(unique_Date)"
      ]
    },
    {
      "cell_type": "code",
      "execution_count": 17,
      "metadata": {
        "id": "LDo8XSiQNVS2"
      },
      "outputs": [],
      "source": [
        "df[\"Season\"]= df[\"Season\"].str.strip()\n"
      ]
    },
    {
      "cell_type": "code",
      "execution_count": 18,
      "metadata": {
        "colab": {
          "base_uri": "https://localhost:8080/"
        },
        "id": "AaFn-mJiN16M",
        "outputId": "ef331829-ed81-4e82-e17f-4618782daeb7"
      },
      "outputs": [
        {
          "name": "stdout",
          "output_type": "stream",
          "text": [
            "['Kharif' 'Whole Year' 'Autumn' 'Rabi' 'Summer' 'Winter']\n"
          ]
        }
      ],
      "source": [
        "unique_Season = df[\"Season\"].unique()\n",
        "print(unique_Season)"
      ]
    },
    {
      "cell_type": "markdown",
      "metadata": {
        "id": "q4aEj4nSORz5"
      },
      "source": [
        "Categorizing the 6 Season into 4 major Indian cropping Seasion"
      ]
    },
    {
      "cell_type": "code",
      "execution_count": 19,
      "metadata": {
        "colab": {
          "base_uri": "https://localhost:8080/"
        },
        "id": "bbWBOPSqOEku",
        "outputId": "aedceac9-fc4d-4408-9692-fc6c5e88ec90"
      },
      "outputs": [
        {
          "name": "stdout",
          "output_type": "stream",
          "text": [
            "['Kharif' 'Whole Year' 'Rabi' 'Zaid']\n"
          ]
        }
      ],
      "source": [
        "df[\"Season\"] = df[\"Season\"].apply(lambda x : \"Rabi\" if x == \"Winter\" else x )\n",
        "df[\"Season\"] =df[\"Season\"].apply(lambda x : \"Rabi\" if x == \"Autumn\" else x )\n",
        "df[\"Season\"] = df[\"Season\"].apply(lambda x : \"Zaid\" if x == \"Summer\" else x )\n",
        "print(df[\"Season\"].unique())\n"
      ]
    },
    {
      "cell_type": "markdown",
      "metadata": {
        "id": "Gs_ysfFePuI2"
      },
      "source": [
        "*All unique crop names*"
      ]
    },
    {
      "cell_type": "code",
      "execution_count": 20,
      "metadata": {
        "colab": {
          "base_uri": "https://localhost:8080/"
        },
        "id": "62e0riNfPrAx",
        "outputId": "4b018b82-a8cf-4661-98be-96ed9f9fa9c8"
      },
      "outputs": [
        {
          "name": "stdout",
          "output_type": "stream",
          "text": [
            "['Arecanut' 'Other Kharif pulses' 'Rice' 'Banana' 'Cashewnut' 'Coconut'\n",
            " 'Dry ginger' 'Sugarcane' 'Sweet potato' 'Tapioca' 'Black pepper'\n",
            " 'Dry chillies' 'other oilseeds' 'Turmeric' 'Maize' 'Moong(Green Gram)'\n",
            " 'Urad' 'Arhar/Tur' 'Groundnut' 'Sunflower' 'Bajra' 'Castor seed'\n",
            " 'Cotton(lint)' 'Horse-gram' 'Jowar' 'Korra' 'Ragi' 'Tobacco' 'Gram'\n",
            " 'Wheat' 'Masoor' 'Sesamum' 'Linseed' 'Safflower' 'Onion'\n",
            " 'other misc. pulses' 'Samai' 'Small millets' 'Coriander' 'Potato'\n",
            " 'Other  Rabi pulses' 'Soyabean' 'Beans & Mutter(Vegetable)' 'Bhindi'\n",
            " 'Brinjal' 'Citrus Fruit' 'Cucumber' 'Grapes' 'Mango' 'Orange'\n",
            " 'other fibres' 'Other Fresh Fruits' 'Other Vegetables' 'Papaya'\n",
            " 'Pome Fruit' 'Tomato' 'Rapeseed &Mustard' 'Mesta' 'Cowpea(Lobia)' 'Lemon'\n",
            " 'Pome Granet' 'Sapota' 'Cabbage' 'Peas  (vegetable)' 'Niger seed'\n",
            " 'Bottle Gourd' 'Sannhamp' 'Varagu' 'Garlic' 'Ginger' 'Oilseeds total'\n",
            " 'Pulses total' 'Jute' 'Peas & beans (Pulses)' 'Blackgram' 'Paddy'\n",
            " 'Pineapple' 'Barley' 'Khesari' 'Guar seed' 'Moth'\n",
            " 'Other Cereals & Millets' 'Cond-spcs other' 'Turnip' 'Carrot' 'Redish'\n",
            " 'Arcanut (Processed)' 'Atcanut (Raw)' 'Cashewnut Processed'\n",
            " 'Cashewnut Raw' 'Cardamom' 'Rubber' 'Bitter Gourd' 'Drum Stick'\n",
            " 'Jack Fruit' 'Snak Guard' 'Pump Kin' 'Tea' 'Coffee' 'Cauliflower'\n",
            " 'Other Citrus Fruit' 'Water Melon' 'Total foodgrain' 'Kapas' 'Colocosia'\n",
            " 'Lentil' 'Bean' 'Jobster' 'Perilla' 'Rajmash Kholar' 'Ricebean (nagadal)'\n",
            " 'Ash Gourd' 'Beet Root' 'Lab-Lab' 'Ribed Guard' 'Yam' 'Apple' 'Peach'\n",
            " 'Pear' 'Plums' 'Litchi' 'Ber' 'Other Dry Fruit' 'Jute & mesta']\n"
          ]
        }
      ],
      "source": [
        "df[\"Crop\"] =df[\"Crop\"].str.strip()\n",
        "unique_Crop = df[\"Crop\"].unique()\n",
        "print(unique_Crop)"
      ]
    },
    {
      "cell_type": "markdown",
      "metadata": {
        "id": "GxYD5vGRRIu-"
      },
      "source": [
        "Since many of the crop names wre repleted  , duplicate or having wrong spelling .Comabing all the duplicate into one crop and correcting the spelling of all the incoorect ones ."
      ]
    },
    {
      "cell_type": "code",
      "execution_count": 21,
      "metadata": {
        "id": "NIM8uCDrQ42P"
      },
      "outputs": [],
      "source": [
        "df[\"Crop\"] = df[\"Crop\"].apply(lambda x : \"Seasum\" if x == \"Sesamum\" else x )\n",
        "df[\"Crop\"] =df[\"Crop\"].apply(lambda x : \"Pomegranete\" if x == \"Pome Granet\" else x )\n",
        "df[\"Crop\"] = df[\"Crop\"].apply(lambda x : \"Sunhemp\" if x == \"Sannhamp\" else x )\n",
        "df[\"Crop\"] = df[\"Crop\"].apply(lambda x : \"Raddish\" if x == \"Redish\" else x )\n",
        "df[\"Crop\"] =df[\"Crop\"].apply(lambda x : \"Soybean\" if x == \"Soyabean\" else x )\n",
        "df[\"Crop\"] = df[\"Crop\"].apply(lambda x : \"Snake Gourd\" if x == \"Sank Guard\" else x )\n",
        "df[\"Crop\"] = df[\"Crop\"].apply(lambda x : \"Pumpkin\" if x == \"Pump kin\" else x )\n",
        "df[\"Crop\"] =df[\"Crop\"].apply(lambda x : \"Paddy\" if x == \"Rice\" else x )\n",
        "df[\"Crop\"] = df[\"Crop\"].apply(lambda x : \"Blackgram\" if x == \"Urad\" else x )\n",
        "df[\"Crop\"] = df[\"Crop\"].apply(lambda x : \"Lentil\" if x == \"Masoor\" else x )\n",
        "df[\"Crop\"] =df[\"Crop\"].apply(lambda x : \"Jute & mesta\" if x == \"Jute\" else x )\n",
        "df[\"Crop\"] = df[\"Crop\"].apply(lambda x : \"Jute & mesta\" if x == \"Mesta\" else x )\n",
        "df[\"Crop\"] = df[\"Crop\"].apply(lambda x : \"Cotton(lint)\" if x == \"Kapas\" else x )"
      ]
    },
    {
      "cell_type": "code",
      "execution_count": 22,
      "metadata": {
        "colab": {
          "base_uri": "https://localhost:8080/"
        },
        "id": "gYIWq7X9UPxY",
        "outputId": "75097cf3-0d9d-4ec1-95da-51855364f148"
      },
      "outputs": [
        {
          "name": "stdout",
          "output_type": "stream",
          "text": [
            "['None' 'Pulses' 'Cereals' 'Fruits' 'Dryfruits' 'Plantation' 'Condiments'\n",
            " 'Vegetables' 'Oilseeds']\n"
          ]
        }
      ],
      "source": [
        "def category_name(name):\n",
        "\n",
        "  Cereals = ['Wheat\", \"Maize', 'Bajra', 'Paddy', 'Jowar', 'Korra', 'Ragi', 'Small millets', 'Samai', 'Varagu', 'Barley', 'Khesari', 'Other Cereals & Millets']\n",
        "  Pulses = ['Pulses total', 'Other Rabi pulses', 'Other Kharif pulses', 'Moong (Green Gram)', 'Blackgram', 'Lentil', 'Arhar/Tur', 'Horse-gram', 'Gram']\n",
        "  Vegetables = ['Beans & Mutter (Vegetable)' , 'Lemon', 'Sweet potato', 'Tapioca', 'Onion', 'Potato', 'Bhindi ', 'Brinjal', 'Cucumber', 'Other Vegetables', 'Tomate Fruits']\n",
        "  Fruits = ['Sapota', 'Banana', 'Citrus Fruit', 'Grapes', 'Mango', 'Orange', 'Other Fresh Fruits', 'Papaya', 'Pome Fruit', 'Pomegranate', 'Pineapple', 'Other Cit Oilseeds']\n",
        "  Oilseeds=['other oilseeds', 'Groundnut', 'Sunflower', 'Castor seed', 'Safflower', 'Linseed', 'Seasum', 'Rapeseed &Mustard', 'Niger seed', 'Oilseeds total']\n",
        "  Condiments = ['Dry ginger', 'Black pepper', 'Dry chillies', 'Turmeric', 'Coriander', 'Garlic', 'Ginger', 'Cond-spcs other', 'Cardamom', 'Arcanut (Processed)']\n",
        "  Dryfruits = ['Cashewnut', 'Cashewnut Processed', 'Cashewnut Raw', 'Other Dry Fruit']\n",
        "  Plantation = ['Coconut', 'Sugarcane', 'Cotton(lint)', 'Tobacco', 'Jute & mesta', 'Guar seed', 'Rubber', 'Tea', 'Coffee', 'other fibres']\n",
        "\n",
        "  if name in Cereals:\n",
        "                return 'Cereals'\n",
        "\n",
        "  elif name in Pulses:\n",
        "                return 'Pulses'\n",
        "\n",
        "  elif name in Vegetables:\n",
        "                return 'Vegetables'\n",
        "\n",
        "  elif name in Fruits:\n",
        "                return 'Fruits'\n",
        "\n",
        "  elif name in Oilseeds:\n",
        "                return 'Oilseeds'\n",
        "\n",
        "  elif name in Condiments:\n",
        "                return 'Condiments'\n",
        "\n",
        "  elif name in Dryfruits:\n",
        "                return 'Dryfruits'\n",
        "\n",
        "  elif name in Plantation:\n",
        "                return 'Plantation'\n",
        "\n",
        "  else:\n",
        "                return 'None'\n",
        "\n",
        "df[\"Category\"]= df[\"Crop\"].apply(category_name)\n",
        "\n",
        "print(df[\"Category\"].unique())\n"
      ]
    },
    {
      "cell_type": "markdown",
      "metadata": {
        "id": "4lX0tvBWlg56"
      },
      "source": [
        "Categorizing all the indian states into their respected regions"
      ]
    },
    {
      "cell_type": "code",
      "execution_count": 23,
      "metadata": {
        "colab": {
          "base_uri": "https://localhost:8080/"
        },
        "id": "DcWgT1RLkHxC",
        "outputId": "8f48b6f8-b994-496a-8a60-a80100fd7c41"
      },
      "outputs": [
        {
          "name": "stdout",
          "output_type": "stream",
          "text": [
            "['South India' 'East India' 'North India' 'West India' 'None']\n"
          ]
        }
      ],
      "source": [
        "def category (name):\n",
        "\n",
        "   east_india=['West Bengal', 'Tripura', 'Arunachal Pradesh', 'Assam', 'Manipur', 'Meghalaya', 'Mizoram', 'Nagaland', 'Sikkim', 'Odisha']\n",
        "   west_india=['Maharashtra', 'Gujarat', 'Dadra and Nagar Haveli', 'Goa', 'Rajasthan']\n",
        "   north_india=['Bihar', 'Chandigarh', 'Chhattisgarh', 'Haryana', 'Himachal Pradesh', 'Jammu and Kashmir', 'Jharkhand', 'Madhya Pradesh', 'Punjab','Telangana ', 'Uttar Pradesh', 'Uttarakhand']\n",
        "   south_india = ['Tamil Nadu', 'Telangana', 'Andaman and Nicobar Islands', 'Andhra Pradesh', 'Karnataka', 'Kerala', 'Puducherry']\n",
        "\n",
        "   if name in east_india:\n",
        "    return 'East India'\n",
        "\n",
        "   elif name in west_india:\n",
        "    return 'West India'\n",
        "\n",
        "   elif name in north_india:\n",
        "    return 'North India'\n",
        "\n",
        "   elif name in south_india:\n",
        "    return 'South India'\n",
        "\n",
        "   else:\n",
        "    return 'None'\n",
        "\n",
        "df[\"Region\"] = df[\"State_Name\"].apply(category)\n",
        "\n",
        "print(df[\"Region\"].unique())\n"
      ]
    },
    {
      "cell_type": "code",
      "execution_count": 24,
      "metadata": {
        "colab": {
          "base_uri": "https://localhost:8080/"
        },
        "id": "jzsxCKZrmSK2",
        "outputId": "4d903ab0-4a5b-4dba-883f-57691d21e6a9"
      },
      "outputs": [
        {
          "data": {
            "text/plain": [
              "array(['Jammu and Kashmir '], dtype=object)"
            ]
          },
          "execution_count": 24,
          "metadata": {},
          "output_type": "execute_result"
        }
      ],
      "source": [
        "ny_df = df.loc[df['Region'] == 'None']\n",
        "\n",
        "ny_df[\"State_Name\"].unique()"
      ]
    },
    {
      "cell_type": "code",
      "execution_count": 25,
      "metadata": {
        "id": "doD2hq0BmcdO"
      },
      "outputs": [],
      "source": [
        "df.columns=['State_Name',\t'District_Name',\t'Crop_Year',\t'Season',\t'Crop',\t'Area(hectare)',\t'Production(tonnes)',\t'Date',\t'Category',\t'Region']"
      ]
    },
    {
      "cell_type": "code",
      "execution_count": 26,
      "metadata": {
        "colab": {
          "base_uri": "https://localhost:8080/"
        },
        "id": "0ZKyBnslnYDF",
        "outputId": "d4f2cdf4-dff8-4d19-99e5-bf1e4b3cda2f"
      },
      "outputs": [
        {
          "data": {
            "text/plain": [
              "Index(['State_Name', 'District_Name', 'Crop_Year', 'Season', 'Crop',\n",
              "       'Area(hectare)', 'Production(tonnes)', 'Date', 'Category', 'Region'],\n",
              "      dtype='object')"
            ]
          },
          "execution_count": 26,
          "metadata": {},
          "output_type": "execute_result"
        }
      ],
      "source": [
        "df.columns"
      ]
    },
    {
      "cell_type": "markdown",
      "metadata": {
        "id": "mkmg4UpXoOIv"
      },
      "source": [
        "Creating  a new columns named \"productivity\" and \"Total productivity\""
      ]
    },
    {
      "cell_type": "code",
      "execution_count": 27,
      "metadata": {
        "id": "wR0wUo_uoKjS"
      },
      "outputs": [],
      "source": [
        "df[\"Productivity\"] = df [\"Production(tonnes)\"] / df[\"Area(hectare)\"]\n",
        "df[\"Total Production\"] = df [\"Production(tonnes)\"] * df[\"Area(hectare)\"]"
      ]
    },
    {
      "cell_type": "code",
      "execution_count": 28,
      "metadata": {
        "colab": {
          "base_uri": "https://localhost:8080/",
          "height": 417
        },
        "id": "PLA46W2uo6XD",
        "outputId": "accc8a80-ecc2-41cb-e810-b33fb4e34603"
      },
      "outputs": [
        {
          "data": {
            "text/html": [
              "<div>\n",
              "<style scoped>\n",
              "    .dataframe tbody tr th:only-of-type {\n",
              "        vertical-align: middle;\n",
              "    }\n",
              "\n",
              "    .dataframe tbody tr th {\n",
              "        vertical-align: top;\n",
              "    }\n",
              "\n",
              "    .dataframe thead th {\n",
              "        text-align: right;\n",
              "    }\n",
              "</style>\n",
              "<table border=\"1\" class=\"dataframe\">\n",
              "  <thead>\n",
              "    <tr style=\"text-align: right;\">\n",
              "      <th></th>\n",
              "      <th>State_Name</th>\n",
              "      <th>District_Name</th>\n",
              "      <th>Crop_Year</th>\n",
              "      <th>Season</th>\n",
              "      <th>Crop</th>\n",
              "      <th>Area(hectare)</th>\n",
              "      <th>Production(tonnes)</th>\n",
              "      <th>Date</th>\n",
              "      <th>Category</th>\n",
              "      <th>Region</th>\n",
              "      <th>Productivity</th>\n",
              "      <th>Total Production</th>\n",
              "    </tr>\n",
              "  </thead>\n",
              "  <tbody>\n",
              "    <tr>\n",
              "      <th>0</th>\n",
              "      <td>Andaman and Nicobar Islands</td>\n",
              "      <td>NICOBARS</td>\n",
              "      <td>2000</td>\n",
              "      <td>Kharif</td>\n",
              "      <td>Arecanut</td>\n",
              "      <td>1254.0</td>\n",
              "      <td>2000.0</td>\n",
              "      <td>2000-01-01</td>\n",
              "      <td>None</td>\n",
              "      <td>South India</td>\n",
              "      <td>1.594896</td>\n",
              "      <td>2508000.0</td>\n",
              "    </tr>\n",
              "    <tr>\n",
              "      <th>1</th>\n",
              "      <td>Andaman and Nicobar Islands</td>\n",
              "      <td>NICOBARS</td>\n",
              "      <td>2000</td>\n",
              "      <td>Kharif</td>\n",
              "      <td>Other Kharif pulses</td>\n",
              "      <td>2.0</td>\n",
              "      <td>1.0</td>\n",
              "      <td>2000-01-01</td>\n",
              "      <td>Pulses</td>\n",
              "      <td>South India</td>\n",
              "      <td>0.500000</td>\n",
              "      <td>2.0</td>\n",
              "    </tr>\n",
              "    <tr>\n",
              "      <th>2</th>\n",
              "      <td>Andaman and Nicobar Islands</td>\n",
              "      <td>NICOBARS</td>\n",
              "      <td>2000</td>\n",
              "      <td>Kharif</td>\n",
              "      <td>Paddy</td>\n",
              "      <td>102.0</td>\n",
              "      <td>321.0</td>\n",
              "      <td>2000-01-01</td>\n",
              "      <td>Cereals</td>\n",
              "      <td>South India</td>\n",
              "      <td>3.147059</td>\n",
              "      <td>32742.0</td>\n",
              "    </tr>\n",
              "    <tr>\n",
              "      <th>3</th>\n",
              "      <td>Andaman and Nicobar Islands</td>\n",
              "      <td>NICOBARS</td>\n",
              "      <td>2000</td>\n",
              "      <td>Whole Year</td>\n",
              "      <td>Banana</td>\n",
              "      <td>176.0</td>\n",
              "      <td>641.0</td>\n",
              "      <td>2000-01-01</td>\n",
              "      <td>Fruits</td>\n",
              "      <td>South India</td>\n",
              "      <td>3.642045</td>\n",
              "      <td>112816.0</td>\n",
              "    </tr>\n",
              "    <tr>\n",
              "      <th>4</th>\n",
              "      <td>Andaman and Nicobar Islands</td>\n",
              "      <td>NICOBARS</td>\n",
              "      <td>2000</td>\n",
              "      <td>Whole Year</td>\n",
              "      <td>Cashewnut</td>\n",
              "      <td>720.0</td>\n",
              "      <td>165.0</td>\n",
              "      <td>2000-01-01</td>\n",
              "      <td>Dryfruits</td>\n",
              "      <td>South India</td>\n",
              "      <td>0.229167</td>\n",
              "      <td>118800.0</td>\n",
              "    </tr>\n",
              "  </tbody>\n",
              "</table>\n",
              "</div>"
            ],
            "text/plain": [
              "                    State_Name District_Name  Crop_Year      Season  \\\n",
              "0  Andaman and Nicobar Islands      NICOBARS       2000      Kharif   \n",
              "1  Andaman and Nicobar Islands      NICOBARS       2000      Kharif   \n",
              "2  Andaman and Nicobar Islands      NICOBARS       2000      Kharif   \n",
              "3  Andaman and Nicobar Islands      NICOBARS       2000  Whole Year   \n",
              "4  Andaman and Nicobar Islands      NICOBARS       2000  Whole Year   \n",
              "\n",
              "                  Crop  Area(hectare)  Production(tonnes)       Date  \\\n",
              "0             Arecanut         1254.0              2000.0 2000-01-01   \n",
              "1  Other Kharif pulses            2.0                 1.0 2000-01-01   \n",
              "2                Paddy          102.0               321.0 2000-01-01   \n",
              "3               Banana          176.0               641.0 2000-01-01   \n",
              "4            Cashewnut          720.0               165.0 2000-01-01   \n",
              "\n",
              "    Category       Region  Productivity  Total Production  \n",
              "0       None  South India      1.594896         2508000.0  \n",
              "1     Pulses  South India      0.500000               2.0  \n",
              "2    Cereals  South India      3.147059           32742.0  \n",
              "3     Fruits  South India      3.642045          112816.0  \n",
              "4  Dryfruits  South India      0.229167          118800.0  "
            ]
          },
          "execution_count": 28,
          "metadata": {},
          "output_type": "execute_result"
        }
      ],
      "source": [
        "df.head()"
      ]
    },
    {
      "cell_type": "markdown",
      "metadata": {
        "id": "ralpSlHUp1Wz"
      },
      "source": [
        "Droping All the null values :"
      ]
    },
    {
      "cell_type": "code",
      "execution_count": 29,
      "metadata": {
        "id": "gri1JtEEpBmz"
      },
      "outputs": [],
      "source": [
        "df = df.dropna(axis=0)"
      ]
    },
    {
      "cell_type": "markdown",
      "metadata": {
        "id": "hetGOxyEqD5-"
      },
      "source": [
        "Droping All the rows in which Area is 1,2,3,4,5,6,7\n",
        " and 10\n"
      ]
    },
    {
      "cell_type": "code",
      "execution_count": 30,
      "metadata": {
        "id": "BeJr3TFqqQhn"
      },
      "outputs": [],
      "source": [
        "df = df.drop(df[df['Area(hectare)'] ==1].index)\n",
        "df = df.drop(df[df['Area(hectare)'] ==7].index)\n",
        "df = df.drop(df[df['Area(hectare)'] ==2].index)\n",
        "df = df.drop(df[df['Area(hectare)'] ==3].index)\n",
        "df = df.drop(df[df['Area(hectare)'] ==4].index)\n",
        "df = df.drop(df[df['Area(hectare)'] ==5].index)\n",
        "df = df.drop(df[df['Area(hectare)'] ==6].index)\n",
        "df = df.drop(df[df['Area(hectare)'] ==10].index)\n",
        "\n"
      ]
    },
    {
      "cell_type": "markdown",
      "metadata": {
        "id": "T-NvOqFsqSnP"
      },
      "source": [
        "Droping All the rows in which production is 0,1,2,3,4,5,6 and 10\n",
        "\n"
      ]
    },
    {
      "cell_type": "code",
      "execution_count": 31,
      "metadata": {
        "id": "pNvABHJhqSQ7"
      },
      "outputs": [],
      "source": [
        "df = df.drop(df[df['Production(tonnes)'] ==0].index)\n",
        "df = df.drop(df[df['Production(tonnes)'] ==1].index)\n",
        "df = df.drop(df[df['Production(tonnes)'] ==2].index)\n",
        "df = df.drop(df[df['Production(tonnes)'] ==3].index)\n",
        "df = df.drop(df[df['Production(tonnes)'] ==4].index)\n",
        "df = df.drop(df[df['Production(tonnes)'] ==5].index)\n",
        "df = df.drop(df[df['Production(tonnes)'] ==6].index)\n",
        "df = df.drop(df[df['Production(tonnes)'] ==10].index)"
      ]
    },
    {
      "cell_type": "code",
      "execution_count": 32,
      "metadata": {
        "id": "baUBuXoTrnvn"
      },
      "outputs": [],
      "source": [
        "df.to_csv(\"Clened.csv\", index = False)"
      ]
    },
    {
      "cell_type": "code",
      "execution_count": 33,
      "metadata": {
        "colab": {
          "base_uri": "https://localhost:8080/"
        },
        "id": "Ww4a6-w2rzan",
        "outputId": "a9618ca8-6bc1-4943-ba0c-395cfd7d6742"
      },
      "outputs": [
        {
          "data": {
            "text/plain": [
              "Index(['State_Name', 'District_Name', 'Crop_Year', 'Season', 'Crop',\n",
              "       'Area(hectare)', 'Production(tonnes)', 'Date', 'Category', 'Region',\n",
              "       'Productivity', 'Total Production'],\n",
              "      dtype='object')"
            ]
          },
          "execution_count": 33,
          "metadata": {},
          "output_type": "execute_result"
        }
      ],
      "source": [
        "df.columns"
      ]
    },
    {
      "cell_type": "markdown",
      "metadata": {
        "id": "Rk6SSirKsylZ"
      },
      "source": [
        "Removing the outliers"
      ]
    },
    {
      "cell_type": "code",
      "execution_count": 34,
      "metadata": {
        "id": "fhp2jK4mr1o_"
      },
      "outputs": [],
      "source": [
        "Q1= df[\"Total Production\"].quantile(0.40)\n",
        "Q3 =df[\"Total Production\"].quantile (0.60)\n",
        "IQR = Q3 - Q1\n",
        "df =df[(df[\"Total Production\"] >= Q1-1.5*IQR) & (df [\"Total Production\"] <= Q3 + 1.5*IQR)]"
      ]
    },
    {
      "cell_type": "code",
      "execution_count": 35,
      "metadata": {
        "id": "8Na6WQGis-nt"
      },
      "outputs": [],
      "source": [
        "Q1 =df [\"Productivity\"].quantile (0.40)\n",
        "Q3 =df[\"Productivity\"].quantile (0.60)\n",
        "\n",
        "IQR= Q3-Q1\n",
        "\n",
        "df=df[(df[\"Productivity\"] >= Q1 -1.5*IQR) & (df [\"Productivity\"] <= Q3 + 1.5*IQR)]"
      ]
    },
    {
      "cell_type": "code",
      "execution_count": 37,
      "metadata": {
        "colab": {
          "base_uri": "https://localhost:8080/",
          "height": 555
        },
        "id": "E0FN02_htc2d",
        "outputId": "73c5f05a-6589-44c5-b176-3e7c88119c54"
      },
      "outputs": [
        {
          "data": {
            "text/plain": [
              "(array([76741.,  7248.,  3958.,  2710.,  2058.,  1754.,  1335.,  1186.,\n",
              "         1125.,   919.]),\n",
              " array([8.00000000e-03, 1.00686001e+06, 2.01372001e+06, 3.02058001e+06,\n",
              "        4.02744000e+06, 5.03430000e+06, 6.04116000e+06, 7.04802000e+06,\n",
              "        8.05488000e+06, 9.06174000e+06, 1.00686000e+07]),\n",
              " <BarContainer object of 10 artists>)"
            ]
          },
          "execution_count": 37,
          "metadata": {},
          "output_type": "execute_result"
        },
        {
          "data": {
            "image/png": "[encoded data removed]",
            "text/plain": [
              "<Figure size 640x480 with 1 Axes>"
            ]
          },
          "metadata": {},
          "output_type": "display_data"
        }
      ],
      "source": [
        "plt.hist(df[\"Total Production\"])"
      ]
    },
    {
      "cell_type": "code",
      "execution_count": 38,
      "metadata": {
        "colab": {
          "base_uri": "https://localhost:8080/",
          "height": 534
        },
        "id": "H3-jlB0UtxX9",
        "outputId": "3974ffd8-00c3-455e-d4d8-05b1a49eebce"
      },
      "outputs": [
        {
          "data": {
            "text/plain": [
              "(array([11984., 15434., 16307., 13256., 12632., 11263.,  6145.,  4620.,\n",
              "         4457.,  2936.]),\n",
              " array([0.13772455, 0.29021349, 0.44270244, 0.59519138, 0.74768032,\n",
              "        0.90016927, 1.05265821, 1.20514715, 1.3576361 , 1.51012504,\n",
              "        1.66261398]),\n",
              " <BarContainer object of 10 artists>)"
            ]
          },
          "execution_count": 38,
          "metadata": {},
          "output_type": "execute_result"
        },
        {
          "data": {
            "image/png": "[encoded data removed]",
            "text/plain": [
              "<Figure size 640x480 with 1 Axes>"
            ]
          },
          "metadata": {},
          "output_type": "display_data"
        }
      ],
      "source": [
        "plt.hist(df[\"Productivity\"])"
      ]
    },
    {
      "cell_type": "code",
      "execution_count": 39,
      "metadata": {
        "id": "a5pktPDmuSob"
      },
      "outputs": [],
      "source": [
        "df.to_csv(\"CleanedIQR.csv\", index = False)"
      ]
    },
    {
      "cell_type": "code",
      "execution_count": 40,
      "metadata": {
        "id": "HuR9GLrFuey3"
      },
      "outputs": [],
      "source": [
        "Q1= df[\"Area(hectare)\"].quantile(0.40)\n",
        "Q3 =df[\"Area(hectare)\"].quantile (0.60)\n",
        "IQR = Q3 - Q1\n",
        "df =df[(df[\"Area(hectare)\"] >= Q1-1.5*IQR) & (df [\"Area(hectare)\"] <= Q3 + 1.5*IQR)]"
      ]
    },
    {
      "cell_type": "code",
      "execution_count": 41,
      "metadata": {
        "colab": {
          "base_uri": "https://localhost:8080/"
        },
        "id": "QxJFPKYIukmB",
        "outputId": "501c7e53-0f58-4b51-d87a-ab80ed52cdf7"
      },
      "outputs": [
        {
          "data": {
            "text/plain": [
              "Index(['State_Name', 'District_Name', 'Crop_Year', 'Season', 'Crop',\n",
              "       'Area(hectare)', 'Production(tonnes)', 'Date', 'Category', 'Region',\n",
              "       'Productivity', 'Total Production'],\n",
              "      dtype='object')"
            ]
          },
          "execution_count": 41,
          "metadata": {},
          "output_type": "execute_result"
        }
      ],
      "source": [
        "df.columns"
      ]
    },
    {
      "cell_type": "code",
      "execution_count": 42,
      "metadata": {
        "colab": {
          "base_uri": "https://localhost:8080/",
          "height": 534
        },
        "id": "FQFRMsSgumLW",
        "outputId": "8ece96b6-da14-4387-ae6f-604b8c11bbe2"
      },
      "outputs": [
        {
          "data": {
            "text/plain": [
              "(array([27911., 12570.,  8176.,  5733.,  4528.,  3889.,  3174.,  3209.,\n",
              "         2795.,  2301.]),\n",
              " array([1.00000e-01, 1.12790e+02, 2.25480e+02, 3.38170e+02, 4.50860e+02,\n",
              "        5.63550e+02, 6.76240e+02, 7.88930e+02, 9.01620e+02, 1.01431e+03,\n",
              "        1.12700e+03]),\n",
              " <BarContainer object of 10 artists>)"
            ]
          },
          "execution_count": 42,
          "metadata": {},
          "output_type": "execute_result"
        },
        {
          "data": {
            "image/png": "[encoded data removed]",
            "text/plain": [
              "<Figure size 640x480 with 1 Axes>"
            ]
          },
          "metadata": {},
          "output_type": "display_data"
        }
      ],
      "source": [
        "plt.hist(df[\"Area(hectare)\"])"
      ]
    },
    {
      "cell_type": "code",
      "execution_count": 43,
      "metadata": {
        "id": "WIN76eucvA_z"
      },
      "outputs": [],
      "source": [
        "df.to_csv(\"CleanedIQR.csv\", index = False)"
      ]
    },
    {
      "cell_type": "code",
      "execution_count": null,
      "metadata": {
        "id": "Dj-lD0xPvHWF"
      },
      "outputs": [],
      "source": []
    }
  ],
  "metadata": {
    "colab": {
      "provenance": []
    },
    "kernelspec": {
      "display_name": "Python 3",
      "name": "python3"
    },
    "language_info": {
      "codemirror_mode": {
        "name": "ipython",
        "version": 3
      },
      "file_extension": ".py",
      "mimetype": "text/x-python",
      "name": "python",
      "nbconvert_exporter": "python",
      "pygments_lexer": "ipython3",
      "version": "3.9.13"
    }
  },
  "nbformat": 4,
  "nbformat_minor": 0
}
